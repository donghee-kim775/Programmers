{
 "cells": [
  {
   "cell_type": "markdown",
   "id": "2ed6d9aa",
   "metadata": {},
   "source": [
    "# 문자열 OX퀴즈\n",
    "### - 조건\n",
    "#### 1. 연산기호와 숫자 사이에는 항상 하나의 공백이존재\n",
    "#### 2. [연산자]는 + / - 중 \n",
    "#### 3. 수식이 맞다면 O / 수식이 다르다면 X \n",
    "#### 4. 수식은 'x [연산자] Y = Z' 형태"
   ]
  },
  {
   "cell_type": "code",
   "execution_count": 74,
   "id": "a193be74",
   "metadata": {},
   "outputs": [],
   "source": [
    "quiz = [\"3 - 4 = -3\", \"5 + 6 = 11\"]\n",
    "quiz2 = [\"1 + -8 = 9\", \"5 + 66 = 71\", \"5 - 15 = 63\", \"3 - 1 = 2\"]"
   ]
  },
  {
   "cell_type": "code",
   "execution_count": 75,
   "id": "3823cda4",
   "metadata": {},
   "outputs": [],
   "source": [
    "def solution(quiz):\n",
    "    answer = []\n",
    "    for aquiz in quiz:\n",
    "        aquiz = aquiz.split()\n",
    "        X = int(aquiz[0])\n",
    "        Y = int(aquiz[2])\n",
    "        Z = int(aquiz[4])\n",
    "        if X+Y == Z:\n",
    "            answer.append(\"O\")\n",
    "        elif X-Y == Z:\n",
    "            answer.append(\"O\")\n",
    "        else:\n",
    "            answer.append(\"X\")\n",
    "    return answer"
   ]
  },
  {
   "cell_type": "code",
   "execution_count": 77,
   "id": "c6584107",
   "metadata": {},
   "outputs": [
    {
     "data": {
      "text/plain": [
       "['O', 'O', 'X', 'O']"
      ]
     },
     "execution_count": 77,
     "metadata": {},
     "output_type": "execute_result"
    }
   ],
   "source": [
    "# 위코드에서 찾은 틀린 테스트 케이스\n",
    "solution(quiz2)"
   ]
  },
  {
   "cell_type": "code",
   "execution_count": 78,
   "id": "bdb76306",
   "metadata": {},
   "outputs": [
    {
     "data": {
      "text/plain": [
       "['X', 'O']"
      ]
     },
     "execution_count": 78,
     "metadata": {},
     "output_type": "execute_result"
    }
   ],
   "source": [
    "solution(quiz)"
   ]
  },
  {
   "cell_type": "markdown",
   "id": "84be263a",
   "metadata": {},
   "source": [
    "# Issue\n",
    "### 테스트 케이스 1개 오류가남\n",
    "### 틀린 테스트 케이스 1 + -8 = 9\n",
    "#### -> 위 코드로 조건 X  - Y ==Z에서 TRUE를 인식\n",
    "#### 1 + -8 =-7로 답이 나와야 True이지만 1 - -8 = 9- > 1+8 = 9가 되어버림\n",
    "#### 이슈 해결을 연산자로 조건을 걸어서 조건 만들기"
   ]
  },
  {
   "cell_type": "code",
   "execution_count": 81,
   "id": "68286167",
   "metadata": {},
   "outputs": [],
   "source": [
    "# Issue 해결\n",
    "def solution(quiz):\n",
    "    \n",
    "    answer = []\n",
    "    \n",
    "    for i in quiz:\n",
    "        a, b = i.split('=')\n",
    "        a = a.split()\n",
    "        \n",
    "        if a[1] == '+' :\n",
    "            if int(a[0]) + int(a[2]) == int(b):\n",
    "                answer.append('O')\n",
    "        elif a[1] == '-' :\n",
    "            if int(a[0]) - int(a[2]) == int(b):\n",
    "                answer.append('O')\n",
    "        else:\n",
    "            answer.append(\"X\")\n",
    "    return answer"
   ]
  }
 ],
 "metadata": {
  "kernelspec": {
   "display_name": "Python 3",
   "language": "python",
   "name": "python3"
  },
  "language_info": {
   "codemirror_mode": {
    "name": "ipython",
    "version": 3
   },
   "file_extension": ".py",
   "mimetype": "text/x-python",
   "name": "python",
   "nbconvert_exporter": "python",
   "pygments_lexer": "ipython3",
   "version": "3.6.13"
  }
 },
 "nbformat": 4,
 "nbformat_minor": 5
}
