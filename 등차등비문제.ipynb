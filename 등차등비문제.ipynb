{
 "cells": [
  {
   "cell_type": "markdown",
   "id": "87a85a7f",
   "metadata": {},
   "source": [
    "# LV.0 - 등차수열 등비수열 문제"
   ]
  },
  {
   "cell_type": "code",
   "execution_count": 10,
   "id": "910a6587",
   "metadata": {},
   "outputs": [
    {
     "data": {
      "text/plain": [
       "[2, 4, 8, 16]"
      ]
     },
     "execution_count": 10,
     "metadata": {},
     "output_type": "execute_result"
    }
   ],
   "source": [
    "common = [2,4,8,16]\n",
    "\n",
    "common\n"
   ]
  },
  {
   "cell_type": "code",
   "execution_count": 11,
   "id": "f2e680d3",
   "metadata": {},
   "outputs": [
    {
     "data": {
      "text/plain": [
       "32.0"
      ]
     },
     "execution_count": 11,
     "metadata": {},
     "output_type": "execute_result"
    }
   ],
   "source": [
    "def equivalency(common):\n",
    "    a1 = common[0] - common[1]\n",
    "    a2 = common[1] - common[2]\n",
    "    if a1 == a2:\n",
    "        return True\n",
    "    else:\n",
    "        return False\n",
    "\n",
    "def solution(common):\n",
    "    last = common[len(common)-1]\n",
    "    if equivalency(common):\n",
    "        answer = last+(common[1]-common[0])\n",
    "    else:\n",
    "        equals = common[1]/common[0]\n",
    "        answer = last*equals\n",
    "        answer\n",
    "    return answer\n",
    "\n",
    "solution(common)"
   ]
  }
 ],
 "metadata": {
  "kernelspec": {
   "display_name": "Python 3",
   "language": "python",
   "name": "python3"
  },
  "language_info": {
   "codemirror_mode": {
    "name": "ipython",
    "version": 3
   },
   "file_extension": ".py",
   "mimetype": "text/x-python",
   "name": "python",
   "nbconvert_exporter": "python",
   "pygments_lexer": "ipython3",
   "version": "3.6.13"
  }
 },
 "nbformat": 4,
 "nbformat_minor": 5
}
