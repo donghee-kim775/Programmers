{
 "cells": [
  {
   "cell_type": "markdown",
   "id": "d75545dc",
   "metadata": {},
   "source": [
    "# 두 큐 합 같게 만들기\n",
    "### queue : 먼저 집어넣은 원소가 먼저 나오는 구조\n",
    "### 길이가 같은 두 개의 큐가 주어짐\n",
    "### 하나의 큐를 골라 원소를 추출(pop)하고,\n",
    "### -> 추출된 원소를 다른 큐에 집어넣는(insert) 작업을 통해 각 큐의 원소 합이 같도록 만든다.\n",
    "### -> 이때 작업의 최소 횟수를 구하고자 한다. 한 번의 pop과 한 번의 insert를 합쳐서 작업을 1회로 간주\n",
    "\n",
    "#### ex)\n",
    "queue1 = [3, 2, 7, 2]\n",
    "queue2 = [4, 6, 5, 1]\n",
    "1. queue2의 4 6 5를 순서대로 추출하여 queue1에 추가한 뒤, -> 작업은 3회\n",
    "queue1의 3 2 7 2를 추출하여 queue2에 추가한다. -> 작업은 4회\n",
    "그결과 queue1 은 [4, 6, 5] queue2 는 [1, 3, 2, 7, 2]\n",
    "각 큐의 원소 합은  15로 같다. 이 방법은 작업을 7번 수행한 것이다.\n",
    "\n",
    "2. queue 1.에서 3을 추출하여 queue2에 추가한다. -> 1회\n",
    "그리고 queue2에서 4를 추출하여 queue2에 추가한다. -> 1회\n",
    "그 결과 queue1 은 [2, 7, 2, 4] queue2 는 [6, 5, 1, 3]이 된다.\n",
    "각 큐의 원소 합은 15로 같다 이 방법은 작업을 2번만 수행하며, 이보다 적은 횟수로 목표에 달성할 수 있다.\n",
    "작업의 최소 횟수는 2가 된다."
   ]
  },
  {
   "cell_type": "code",
   "execution_count": 97,
   "id": "6d1395ab",
   "metadata": {},
   "outputs": [],
   "source": [
    "def solution(queue1, queue2):\n",
    "    A=[]\n",
    "    B=[]\n",
    "    queue1.reverse()\n",
    "    queue2.reverse()\n",
    "    total_queue = queue1+queue2\n",
    "    total_queue.sort()\n",
    "    \n",
    "    for i in range(0, len(total_queue)):\n",
    "        # -1 과 0구분\n",
    "        if sum(A) == sum(B):\n",
    "            A.append(total_queue.pop())\n",
    "        elif sum(A) < sum(B):\n",
    "            A.append(total_queue.pop())\n",
    "        else:\n",
    "            B.append(total_queue.pop())\n",
    "    \n",
    "        \n",
    "    if sum(A) != sum(B):\n",
    "        return -1\n",
    "    else:\n",
    "        answer=0\n",
    "        while sum(queue1) != sum(queue2):\n",
    "            if sum(queue1) > sum(queue2):\n",
    "                queue2.insert(0, queue1.pop())\n",
    "                answer+=1\n",
    "            else:\n",
    "                queue1.insert(0, queue2.pop())\n",
    "                answer+=1\n",
    "        return answer"
   ]
  },
  {
   "cell_type": "code",
   "execution_count": 108,
   "id": "70bf7315",
   "metadata": {},
   "outputs": [],
   "source": [
    "C = [1,3,1,1]\n",
    "D = [1,1,7,1]"
   ]
  },
  {
   "cell_type": "code",
   "execution_count": 109,
   "id": "ac3ab3c1",
   "metadata": {
    "scrolled": true
   },
   "outputs": [
    {
     "data": {
      "text/plain": [
       "2"
      ]
     },
     "execution_count": 109,
     "metadata": {},
     "output_type": "execute_result"
    }
   ],
   "source": [
    "solution(C,D)"
   ]
  }
 ],
 "metadata": {
  "kernelspec": {
   "display_name": "Python 3 (ipykernel)",
   "language": "python",
   "name": "python3"
  },
  "language_info": {
   "codemirror_mode": {
    "name": "ipython",
    "version": 3
   },
   "file_extension": ".py",
   "mimetype": "text/x-python",
   "name": "python",
   "nbconvert_exporter": "python",
   "pygments_lexer": "ipython3",
   "version": "3.7.16"
  }
 },
 "nbformat": 4,
 "nbformat_minor": 5
}
